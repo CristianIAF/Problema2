{
  "nbformat": 4,
  "nbformat_minor": 0,
  "metadata": {
    "colab": {
      "provenance": []
    },
    "kernelspec": {
      "name": "python3",
      "display_name": "Python 3"
    },
    "language_info": {
      "name": "python"
    }
  },
  "cells": [
    {
      "cell_type": "markdown",
      "source": [
        "###2 - Con los mismos datos de la pregunta anterior, determina cuántas compras se realizaron por encima de 3000 reales y calcula el porcentaje con respecto al total de compras."
      ],
      "metadata": {
        "id": "9guWoGnQkogH"
      }
    },
    {
      "cell_type": "code",
      "source": [
        "gastos = [2172.54, 3701.35, 3518.09, 3456.61, 3249.38, 2840.82, 3891.45, 3075.26, 2317.64, 3219.08]"
      ],
      "metadata": {
        "id": "9xeY9aAJkx_R"
      },
      "execution_count": 2,
      "outputs": []
    },
    {
      "cell_type": "markdown",
      "source": [
        "###Se sabe que:"
      ],
      "metadata": {
        "id": "48o2RA6wlima"
      }
    },
    {
      "cell_type": "code",
      "source": [
        "# Vamos con un bucle \"for\" para recorrer cada elemento llamado \"gasto\" dentro de la lista llamada \"gastos\"\n",
        "for gasto in gastos:\n",
        "  if gasto > 3000:\n",
        "    print(gasto)"
      ],
      "metadata": {
        "colab": {
          "base_uri": "https://localhost:8080/"
        },
        "id": "DRQpxOAMlmxk",
        "outputId": "330542ec-2e12-4198-8604-c763c3bed903"
      },
      "execution_count": 3,
      "outputs": [
        {
          "output_type": "stream",
          "name": "stdout",
          "text": [
            "3701.35\n",
            "3518.09\n",
            "3456.61\n",
            "3249.38\n",
            "3891.45\n",
            "3075.26\n",
            "3219.08\n"
          ]
        }
      ]
    },
    {
      "cell_type": "markdown",
      "source": [
        "###Para contar compras mayores a 3000 reales, usamos una compresión de generador para contar cuántos gastos superan los 3000 reales (sum(1 for... if...))."
      ],
      "metadata": {
        "id": "EXSBNakEoaux"
      }
    },
    {
      "cell_type": "code",
      "source": [
        "compras_mayores = sum(1 for gasto in gastos if gasto > 3000)\n",
        "total_compras = len(gastos)\n",
        "porcentaje = compras_mayores / total_compras * 100\n",
        "\n",
        "print(f\"La cantidad de compras que se realizaron por encima de los 3000 reales es de: {compras_mayores}\")\n",
        "print(f\"El pocentaje con respecto al total de compras superiores a 3000 reales es: {porcentaje:.2f}%\")"
      ],
      "metadata": {
        "colab": {
          "base_uri": "https://localhost:8080/"
        },
        "id": "aKhsWUwSov1s",
        "outputId": "6e030811-f122-43c6-eb6e-8882f2d202ff"
      },
      "execution_count": 5,
      "outputs": [
        {
          "output_type": "stream",
          "name": "stdout",
          "text": [
            "La cantidad de compras que se realizaron por encima de los 3000 reales es de: 7\n",
            "El pocentaje con respecto al total de compras superiores a 3000 reales es: 70.00%\n"
          ]
        }
      ]
    }
  ]
}